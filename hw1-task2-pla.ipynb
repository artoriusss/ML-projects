{
 "cells": [
  {
   "cell_type": "code",
   "execution_count": 18,
   "id": "fe44083c-b2d1-4370-a08c-53b19b8ec944",
   "metadata": {
    "id": "fe44083c-b2d1-4370-a08c-53b19b8ec944",
    "tags": []
   },
   "outputs": [],
   "source": [
    "# We use torch and sklearn only on steps of fitting data\n",
    "import torch\n",
    "from tqdm import tqdm\n",
    "from scipy.optimize import linprog\n",
    "from torchvision import datasets\n",
    "import torchvision.transforms as transforms\n",
    "from sklearn.model_selection import train_test_split\n",
    "\n",
    "import numpy as np\n",
    "import matplotlib.pyplot as plt\n",
    "\n",
    "%matplotlib inline"
   ]
  },
  {
   "cell_type": "markdown",
   "id": "EQznMLwjRzhi",
   "metadata": {
    "id": "EQznMLwjRzhi",
    "tags": []
   },
   "source": [
    "# Problem 2: Separating hyperplanes and the Perceptron Learning Algorithm (3pts)\n",
    "### <div align=\"right\"> &copy; Yurii Yeliseev & Rostyslav Hryniv, 2022 </div>\n",
    "\n",
    "## Completed by:   \n",
    "*   First team member\n",
    "*   Second team member\n",
    "\n",
    "\n",
    "#### The aim of this task is to discuss a simple binary classification method for linearly separated classes. The Perceptron Learning Algorithm finds a ***separating hyperplane*** in finitely many steps and is based on a clear geometric update method. We will derive the upper bound on the number of iterations in PLA and implement it for digit classification for the MNIST database."
   ]
  },
  {
   "cell_type": "markdown",
   "id": "BPiRUcHnhqxX",
   "metadata": {
    "id": "BPiRUcHnhqxX",
    "tags": []
   },
   "source": [
    "## 1. Separating hyperplanes and classification (0.9 pts)"
   ]
  },
  {
   "cell_type": "markdown",
   "id": "F8uu18FS0NVJ",
   "metadata": {
    "id": "F8uu18FS0NVJ"
   },
   "source": [
    "### 1.1. Binary classification.    \n",
    "A typical task of binary classification reads as follows. We are given the set of labelled (training) data $(\\mathbf{x}_k, y_k), k=1,2,\\dots, N$, where $\\mathbf{x}_k \\in \\mathbb{R}^d$ gives a data point and the label $y_k = \\pm1$ encodes the class (e.g. $y_k=1$ is the <font color='red'>''red''</font> class and $y_k=-1$ is the <font color='blue'>''blue''</font> one). The task is to find a classfier $f \\,:\\, \\mathbb{R}^d \\to \\pm1$ that would correctly recognize the classes, i.e. satisfy $y_k f(\\mathbf{x}_k) >0$ for all (or most) $k=1,2,\\dots,N$. This function can then be used to guess the class of new (unseen) data $\\mathbf{x}\\in\\mathbb{R}^n$.\n"
   ]
  },
  {
   "cell_type": "markdown",
   "id": "HqpK65XMSYul",
   "metadata": {
    "id": "HqpK65XMSYul"
   },
   "source": [
    "\n",
    "### 1.2. Separating hyperplane  \n",
    "The simplest case is when the red and blue classes are *linearly separable*, i.e., when there is a hyperplane $H: \\mathbf{w} \\cdot \\mathbf{x} + w_0 = 0$ separating the red and blue datapoints. Then  $f(\\mathbf{x}) = \\mathbf{w}\\cdot \\mathbf{x} + w_0$ is an affine classifier, so that $f(\\mathbf{x}_k)>0$ for red points and $f(\\mathbf{x}_k)<0$ for blue ones. Augmenting $\\mathbf{x}$ to $\\widehat{\\mathbf{x}} := (1, \\mathbf{x})$ and $\\widehat{\\mathbf{w}} = (w_0,\\mathbf{w})$, we recognize that $f(\\mathbf{x})= \\widehat{\\mathbf{x}}\\cdot \\widehat{\\mathbf{w}}$. Therefore, the angles between $\\widehat{\\mathbf{x}}$ and $\\widehat{\\mathbf{w}}$ are acute for red datapoints and obtuse for the blue ones. The task is therefore to find the *normal vector* $\\widehat{\\mathbf{w}}$ with this properties."
   ]
  },
  {
   "cell_type": "markdown",
   "id": "75612201-411f-48d9-8f36-629d8e8c5811",
   "metadata": {
    "id": "75612201-411f-48d9-8f36-629d8e8c5811",
    "tags": []
   },
   "source": [
    "### 1.3. The idea behind the Perceptron learning algorithm (PLA)\n",
    "\n",
    "To simplify the notations, in what follows we will omit the \"hats\" above the $(d+1)$-dimensional vectors $\\widehat{\\mathbf{x}}$ and $\\widehat{\\mathbf{w}}$.\n",
    "\n",
    "PLA is an iterative algorithm that updates the direction vector ${\\mathbf{w}}$ towards a misclassified example, one at a time.\n",
    "\n",
    "Let's recall that correctly classified vectors $\\mathbf{x}_j$ must satisfy the inequality\n",
    "$$\n",
    "  y_j ({\\mathbf{w}}\\cdot {\\mathbf{x}}_j) > 0.\n",
    "$$\n",
    "If a red $\\mathbf{x}_j$ is misclassified, then the angle between ${\\mathbf{w}}$ and ${\\mathbf{x}}_j$ is obtuse. The idea is that we should decrease the angle between them by updating ${\\mathbf{w}}$ to ${\\mathbf{w}} + {\\mathbf{x}}_j$ (see Figure 1). Likewise, if a blue $\\mathbf{x}_j$ is misclassified, then the angle between ${\\mathbf{w}}$ and ${\\mathbf{x}}_j$ is acute, and we increase it be replacing ${\\mathbf{w}}$ with ${\\mathbf{w}} - {\\mathbf{x}}_j$. In both cases, the update is $${\\mathbf{w}} \\mapsto {\\mathbf{w}} + y_j {\\mathbf{x}}_j$$\n",
    "\n",
    "<!DOCTYPE html>\n",
    "<html lang=\"en\">\n",
    "<head>\n",
    "    <meta charset=\"UTF-8\">\n",
    "    <meta http-equiv=\"X-UA-Compatible\" content=\"IE=edge\">\n",
    "    <meta name=\"viewport\" content=\"width=device-width, initial-scale=1.0\">\n",
    "    <title></title>\n",
    "</head>\n",
    "<body>\n",
    "    <img src=\"https://drive.google.com/uc?export=view&id=12rduejeedS8NxrxXkSBJkkcDH3lB0k-R\">\n",
    "\n",
    "\n",
    "</body>\n",
    "</html>\n",
    "\n",
    "### 1.4. **PLA**\n",
    "\n",
    "The above considerations suggest the following **PLA**:\n",
    "1.   Start with ${\\mathbf{w}}_0=\\mathbf{0}$ and classify the points\n",
    "2.   Take an arbitrary misclassified point\n",
    "3.   Update the ${\\mathbf{w}}$\n",
    "4.   Update the classification\n",
    "5.   Repeat 2-4 until there are misclassified points.\n"
   ]
  },
  {
   "cell_type": "markdown",
   "id": "oOn-vs9ye4B2",
   "metadata": {
    "id": "oOn-vs9ye4B2"
   },
   "source": [
    "### 1.5. **PLA**: proof of convergence (0.9 pts)\n",
    "\n",
    "\n",
    "---\n",
    "\n",
    "\n",
    "#### **1.5.1 (0.3 pts)** Analyze the PLA update step  \n",
    "Prove that by updating ${\\mathbf{w}}$, we are decreasing or increasing (as required) the angle between ${\\mathbf{w}}$ and ${\\mathbf{x}}_j$.\n",
    "\n",
    "---\n",
    "\n",
    "First, let's consider a misclassified datapoint ${\\mathbf{x}}_j$, where the product $y_j ({\\mathbf{w}}\\cdot {\\mathbf{x}}_j)$ is negative. This situation occurs either when $y_j = 1$ and the angle between ${\\mathbf{w}}$ and ${\\mathbf{x}}_j$ is obtuse (greater than 90 degrees), or when $y_j = -1$ and the angle is acute (less than 90 degrees).\n",
    "\n",
    "In the perceptron algorithm, the weight vector ${\\mathbf{w}}$ is updated in the direction of $y_j {\\mathbf{x}}_j$:\n",
    "\n",
    "$${\\mathbf{w}}' = {\\mathbf{w}} + y_j {\\mathbf{x}}_j.$$\n",
    "\n",
    "If we consider the dot product of ${\\mathbf{w}}'$ and ${\\mathbf{x}}_j$, we have:\n",
    "\n",
    "$${\\mathbf{w}}'\\cdot {\\mathbf{x}}_j = ({\\mathbf{w}} + y_j {\\mathbf{x}}_j)\\cdot {\\mathbf{x}}_j = {\\mathbf{w}}\\cdot {\\mathbf{x}}_j + y_j {\\mathbf{x}}_j\\cdot {\\mathbf{x}}_j.$$\n",
    "\n",
    "We note that ${\\mathbf{x}}_j\\cdot {\\mathbf{x}}_j$ is always greater than or equal to zero, as it's equivalent to the square of the length of the vector ${\\mathbf{x}}_j$.\n",
    "\n",
    "When $y_j = 1$, the dot product ${\\mathbf{w}}'\\cdot {\\mathbf{x}}_j$ is larger than ${\\mathbf{w}}\\cdot {\\mathbf{x}}_j$ and when $y_j = -1$, the dot product ${\\mathbf{w}}'\\cdot {\\mathbf{x}}_j$ is smaller than ${\\mathbf{w}}\\cdot {\\mathbf{x}}_j$.\n",
    "\n",
    "We recall that the dot product of two vectors can be expressed in terms of the cosine of the angle between them as ${\\mathbf{u}}\\cdot{\\mathbf{v}} = ||\\mathbf{u}||\\hspace{1mm}||\\mathbf{v}|| \\cos(\\theta)$.\n",
    "\n",
    "Hence, if $y_j = 1$, a larger dot product ${\\mathbf{w}}'\\cdot {\\mathbf{x}}_j$ implies that the cosine of the angle after the update is larger, which in turn means that the angle itself becomes smaller, bringing ${\\mathbf{w}}$ closer in alignment to ${\\mathbf{x}}_j$. If $y_j = -1$, a smaller dot product ${\\mathbf{w}}'\\cdot {\\mathbf{x}}_j$ implies the cosine of the angle after the update is smaller (more negative), which increases the angle between ${\\mathbf{w}}$ and ${\\mathbf{x}}_j$, moving ${\\mathbf{w}}$ further away from ${\\mathbf{x}}_j$, as needed to correct the misclassification.\n",
    "\n",
    "Consequently, we can conclude that the update step of the PLA indeed moves the weight vector ${\\mathbf{w}}$ as needed to correct the misclassification.\n",
    "\n",
    "---\n"
   ]
  },
  {
   "cell_type": "markdown",
   "id": "e5680473-6119-4831-8990-ff6b3ac69e83",
   "metadata": {
    "id": "e5680473-6119-4831-8990-ff6b3ac69e83"
   },
   "source": [
    "#### **Assumptions and notations**\n",
    "\n",
    "***Assumption on linear separability*** There exists an ${\\mathbf{w}^{\\star}} \\in \\mathbb{R}^{d+1}$ of unit length and $\\gamma > 0$ such that $$y_k\\, {\\mathbf{x}}_k\\cdot {\\mathbf{w}}^{\\star} \\ge \\gamma, \\qquad k=1,2,\\dots, n.$$ The value $\\gamma$ determines the width of the *separating slab* free of any datapoints. The larger $\\gamma$, the wider the slab and the more robust the classifier is to noise in data.  \n",
    "\n",
    "We also denote by $R$ the maximum norm of $\\mathbf{x}_k$\n",
    "\n",
    "***Theorem on PLA convergence.*** The PLA makes at most $\\dfrac{R^2}{\\gamma^2}$ updates, after which it returns a separating hyperplane.\n",
    "\n",
    "***Proof.*** Should the algorthm terminate, then the resulting ${\\mathbf{w}}$ determines a separating hyperplane. Thus it suffices to show that the algorithm terminates after at most $\\frac{R^2}{\\gamma^2}$ updates. The approach is to get upper and lower bounds on the norm of the $k^{\\mathrm{th}}$ update ${\\mathbf{w}}_k$ of the weighting vector ${\\mathbf{w}}$, starting with ${\\mathbf{w}}_0 = \\mathbf{0}$.\n",
    "\n",
    "Assume that $k\\ge 1$ and ${\\mathbf{x}}_j$ is a misclasssified point on iteration $k$; then\n",
    "$$\n",
    "\\begin{aligned}\n",
    "\\mathbf{w}_{k+1} \\cdot {\\mathbf{w}}^{\\star} &=\\left({\\mathbf{w}}_k + y_j \\mathbf{x}_j\\right) \\cdot {\\mathbf{w}}^{\\star} \\\\\n",
    "&={\\mathbf{w}}_k \\cdot {\\mathbf{w}}^{\\star}+y_j\\left({\\mathbf{x}}_j \\cdot {\\mathbf{w}}^{\\star}\\right) \\\\\n",
    "&>{\\mathbf{w}}_k \\cdot {\\mathbf{w}}^{\\star} + \\gamma\n",
    "\\end{aligned}\n",
    "$$\n",
    "\n",
    "---\n",
    "\n",
    "#### **1.5.2. (0.3 pts)** Explain by induction that ${\\mathbf{w}}_{k} \\cdot {\\mathbf{w}}^{\\star}> k \\gamma$.\n",
    "\n",
    "---\n",
    "\n",
    "We will prove by mathematical induction that ${\\mathbf{w}}_{k} \\cdot {\\mathbf{w}}^{\\star} \\ge k \\gamma$ for all $k \\ge 0$.\n",
    "\n",
    "Base Case:\n",
    "\n",
    "When $k=0$, we have ${\\mathbf{w}}_{0} \\cdot {\\mathbf{w}}^{\\star} = 0$, which is indeed $\\ge 0 \\cdot \\gamma$, thus satisfying our base case.\n",
    "\n",
    "Inductive Hypothesis:\n",
    "\n",
    "Assume that ${\\mathbf{w}}_{k} \\cdot {\\mathbf{w}}^{\\star} \\ge k \\gamma$ holds for some $k \\ge 0$.\n",
    "\n",
    "Inductive Step:\n",
    "\n",
    "Now we need to show that ${\\mathbf{w}}_{k+1} \\cdot {\\mathbf{w}}^{\\star} \\ge (k+1) \\gamma$.\n",
    "\n",
    "We know from our update rule that\n",
    "\n",
    "$${\\mathbf{w}}_{k+1} \\cdot {\\mathbf{w}}^{\\star} = {\\mathbf{w}}_{k} \\cdot {\\mathbf{w}}^{\\star} + y_j ({\\mathbf{x}}_j \\cdot {\\mathbf{w}}^{\\star}).$$\n",
    "\n",
    "Given the margin condition $y_j ({\\mathbf{x}}_j \\cdot {\\mathbf{w}}^{\\star}) \\ge \\gamma$ for all $j$, we can write\n",
    "\n",
    "$${\\mathbf{w}}_{k+1} \\cdot {\\mathbf{w}}^{\\star} \\ge {\\mathbf{w}}_{k} \\cdot {\\mathbf{w}}^{\\star} + \\gamma.$$\n",
    "\n",
    "By substituting our induction hypothesis ${\\mathbf{w}}_{k} \\cdot {\\mathbf{w}}^{\\star} \\ge k \\gamma$ into this inequality, we get\n",
    "\n",
    "$${\\mathbf{w}}_{k+1} \\cdot {\\mathbf{w}}^{\\star} \\ge k \\gamma + \\gamma = (k+1) \\gamma.$$\n",
    "\n",
    "Hence, the inequality ${\\mathbf{w}}_{k} \\cdot {\\mathbf{w}}^{\\star} \\ge k \\gamma$ holds for all $k \\ge 0$.\n",
    "\n",
    "---\n",
    "\n",
    "This proof shows that with every update of the weight vector, the dot product of ${\\mathbf{w}}_{k}$ and the optimal weight vector ${\\mathbf{w}}^{\\star}$ increases by at least $\\gamma$, ensuring that ${\\mathbf{w}}_{k}$ progressively aligns with ${\\mathbf{w}}^{\\star}$."
   ]
  },
  {
   "cell_type": "markdown",
   "id": "BfKkTkx2YTrb",
   "metadata": {
    "id": "BfKkTkx2YTrb"
   },
   "source": [
    "As a result, we see that\n",
    "$$\\|\\mathbf{w}_k\\| \\ge {\\mathbf{w}}_{k} \\cdot {\\mathbf{w}}^{\\star}> k \\gamma\\tag{1}$$\n",
    "\n",
    "To obtain the upper bound, we argue that\n",
    "$$\n",
    "\\begin{aligned}\n",
    "\\left\\|\\mathbf{w}_{k+1}\\right\\|^2 &=\\left\\|\\mathbf{w}_k+y_j \\mathbf{x}_j\\right\\|^2 \\\\\n",
    "&=\\left\\|\\mathbf{w}_k\\right\\|^2+\\left\\|y_j \\mathbf{x}_j\\right\\|^2+2\\left(\\mathbf{w}_k \\cdot \\mathbf{x}_j\\right) y_j \\\\\n",
    "&=\\left\\|\\mathbf{w}_k\\right\\|^2+\\left\\|\\mathbf{x}_j\\right\\|^2+2\\left(\\mathbf{w}_k \\cdot \\mathbf{x}_j\\right) y_j\n",
    "\\end{aligned}\n",
    "$$\n",
    "\n",
    "---\n",
    "\n",
    "#### **1.5.3. (0.3 pts)** Derive the lower bound\n",
    "$$\n",
    "\\begin{aligned}\n",
    "\\left\\|\\mathbf{w}_{k+1}\\right\\|^2\n",
    "&\\le\\left\\|\\mathbf{w}_k\\right\\|^2+\\left\\|\\mathbf{x}_j\\right\\|^2 \\\\\n",
    "&\\le\\left\\|\\mathbf{w}_k\\right\\|^2+R^2\n",
    "\\end{aligned}\n",
    "$$\n",
    "and use induction to conclude that\n",
    "$$\n",
    "\\left\\|\\mathbf{w}_{k}\\right\\|^2 \\le k\\, R^2 \\tag{2}\n",
    "$$\n",
    "\n",
    "---\n",
    "\n",
    "Let's derive the lower bound for the squared norm of $\\mathbf{w}_{k+1}$:\n",
    "\n",
    "Looking at the equation for $\\left\\|\\mathbf{w}_{k+1}\\right\\|^2$, we know that the term $2(\\mathbf{w}_k \\cdot \\mathbf{x}_j) y_j$ is negative because $\\mathbf{x}_j$ is a misclassified point (so $\\mathbf{w}_k \\cdot \\mathbf{x}_j y_j < 0$). Because we're adding a negative number, it will decrease the value of $\\left\\|\\mathbf{w}_{k+1}\\right\\|^2$, so:\n",
    "\n",
    "$$\\left\\|\\mathbf{w}_{k+1}\\right\\|^2 \\le \\left\\|\\mathbf{w}_k\\right\\|^2+\\left\\|\\mathbf{x}_j\\right\\|^2.$$\n",
    "\n",
    "Now, the magnitude of $\\mathbf{x}_j$ is less than or equal to the maximum distance $R$ from the origin, so $\\left\\|\\mathbf{x}_j\\right\\|^2 \\le R^2$. Therefore:\n",
    "\n",
    "$$\\left\\|\\mathbf{w}_{k+1}\\right\\|^2 \\le \\left\\|\\mathbf{w}_k\\right\\|^2+R^2.$$\n",
    "\n",
    "To show that $\\left\\|\\mathbf{w}_{k}\\right\\|^2 \\le k\\, R^2$ by induction, we start with the base case:\n",
    "\n",
    "For $k=0$, $\\left\\|\\mathbf{w}_{0}\\right\\|^2 = 0 \\le 0 = 0 \\cdot R^2$, which is true.\n",
    "\n",
    "Assume that for some $k \\ge 0$, we have $\\left\\|\\mathbf{w}_{k}\\right\\|^2 \\le k\\, R^2$.\n",
    "\n",
    "Now we need to show that $\\left\\|\\mathbf{w}_{k+1}\\right\\|^2 \\le (k+1)\\, R^2$:\n",
    "\n",
    "We know that $\\left\\|\\mathbf{w}_{k+1}\\right\\|^2 \\le \\left\\|\\mathbf{w}_k\\right\\|^2+R^2$ and by the inductive hypothesis we can replace $\\left\\|\\mathbf{w}_k\\right\\|^2$ with $k\\, R^2$:\n",
    "\n",
    "$$\\left\\|\\mathbf{w}_{k+1}\\right\\|^2 \\le k\\, R^2+R^2 = (k+1)\\, R^2.$$\n",
    "\n",
    "So,\n",
    "\n",
    "$$\n",
    "\\left\\|\\mathbf{w}_{k}\\right\\|^2 \\le k\\, R^2 \\tag{2}\n",
    "$$\n",
    "\n",
    "for all $k \\ge 0$.\n",
    "\n",
    "---\n",
    "\n",
    "Together, (1) and (2) yield\n",
    "$$\n",
    "k^2 \\gamma^2<\\left\\|\\mathbf{w}_{k}\\right\\|^2 \\le k R^2,\n",
    "$$\n",
    "which implies the bound $k<\\frac{R^2}{\\gamma^2}$ and finishes the proof."
   ]
  },
  {
   "cell_type": "markdown",
   "id": "4vq40CCjb4tp",
   "metadata": {
    "id": "4vq40CCjb4tp"
   },
   "source": [
    "## 2. PLA implementation on MNIST dataset (1.8 pts)"
   ]
  },
  {
   "cell_type": "markdown",
   "id": "69405653-4bb7-4a5a-a6ab-6d06f81e2452",
   "metadata": {
    "id": "69405653-4bb7-4a5a-a6ab-6d06f81e2452"
   },
   "source": [
    "### 2.1. Data"
   ]
  },
  {
   "cell_type": "markdown",
   "id": "25024833-b7ae-48a4-b2d2-254aedb9e1ff",
   "metadata": {
    "id": "25024833-b7ae-48a4-b2d2-254aedb9e1ff"
   },
   "source": [
    "`train_data` is torch dataset object where images and targets lie inside `train_data.data` and `train_data.targets` respectively. To convert to numpy array you can use `.numpy()` method."
   ]
  },
  {
   "cell_type": "code",
   "execution_count": 19,
   "id": "689dbfa9-1ed2-4baa-b0f0-8c094fa9a972",
   "metadata": {
    "id": "689dbfa9-1ed2-4baa-b0f0-8c094fa9a972",
    "tags": []
   },
   "outputs": [],
   "source": [
    "train_data = datasets.MNIST(root='data', train=True, download=True)"
   ]
  },
  {
   "cell_type": "markdown",
   "id": "ab0a6dd4-0ffe-4f59-bfad-b33824243772",
   "metadata": {
    "id": "ab0a6dd4-0ffe-4f59-bfad-b33824243772"
   },
   "source": [
    "### 2.2 Take 2 digits samples **(0.3 pts)**\n",
    "\n",
    "First of all you need to take only two digits samples from the dataset and convert the targets properly for the PLA. Choose the two digits based on the sum of your birthdays (e.g. 2 and 4 if it is 24; take 4 and 5 if it is 44)"
   ]
  },
  {
   "cell_type": "code",
   "execution_count": 20,
   "id": "8cf9e98a-daff-4c94-9019-ace288e89bc9",
   "metadata": {
    "id": "8cf9e98a-daff-4c94-9019-ace288e89bc9",
    "tags": []
   },
   "outputs": [],
   "source": [
    "def filter_data(train_data, digit_1, digit_2):\n",
    "    \"\"\"\n",
    "    Take only digit_1 and digit_2 from the dataset and transform labels\n",
    "    Args:\n",
    "        train_data: torchvision.datasets.mnist.MNIST\n",
    "        digit_1: int (from 0 to 9)\n",
    "        digit_2: int (from 0 to 9)\n",
    "\n",
    "    Returns:\n",
    "        train_data: torchvision.datasets.mnist.MNIST or np.array\n",
    "    \"\"\"\n",
    "    # ========= YOUR CODE STARTS HERE ========= #\n",
    "    digits_cls = torch.tensor([digit_1, digit_2])\n",
    "    indices = torch.isin(train_data.targets, digits_cls)\n",
    "    train_data.data, train_data.targets = train_data.data[indices], train_data.targets[indices]\n",
    "    # label digit 2 as -1 and 3 as 1\n",
    "    train_data.targets = torch.where((train_data.targets == digit_1), -1, torch.where((train_data.targets == digit_2), 1, train_data.targets))\n",
    "    # ========== YOUR CODE ENDS HERE ========== #\n",
    "    return train_data"
   ]
  },
  {
   "cell_type": "code",
   "execution_count": 21,
   "id": "dee2eaa6-498f-4174-875a-501548d56113",
   "metadata": {
    "id": "dee2eaa6-498f-4174-875a-501548d56113",
    "tags": []
   },
   "outputs": [],
   "source": [
    "train_data = filter_data(train_data, 2, 3)"
   ]
  },
  {
   "cell_type": "code",
   "execution_count": 22,
   "id": "95c7795f-5ac7-4898-ad18-d5a89b908a35",
   "metadata": {
    "tags": []
   },
   "outputs": [
    {
     "data": {
      "text/plain": [
       "tensor([-1,  1,  1,  ..., -1, -1,  1])"
      ]
     },
     "execution_count": 22,
     "metadata": {},
     "output_type": "execute_result"
    }
   ],
   "source": [
    "train_data.targets"
   ]
  },
  {
   "cell_type": "markdown",
   "id": "IFga5wKx5qLn",
   "metadata": {
    "id": "IFga5wKx5qLn"
   },
   "source": [
    "### 2.3 Take a smaller subset and divide it into train and test sets **(0.3 pts)**\n",
    "\n",
    "\n",
    "Since the dataset is big, you need to use only part of it in this task (take\n",
    "~20-30% of the whole dataset for further processing).\n",
    "\n",
    "1. Properly subdivide dataset\n",
    "2. Calculate number samples in each class for test and train\n",
    "\n",
    "***Note***: you need to have same distributions inside train and test set"
   ]
  },
  {
   "cell_type": "code",
   "execution_count": 23,
   "id": "13cxSAQd5qLo",
   "metadata": {
    "id": "13cxSAQd5qLo",
    "tags": []
   },
   "outputs": [],
   "source": [
    "def split_dataset(train_data):\n",
    "    \"\"\"\n",
    "    Split dataset into train and test parts.\n",
    "\n",
    "    !Hint: You can use train_test_split from sklearn for that\n",
    "\n",
    "    Args:\n",
    "        train_data: torchvision.datasets.mnist.MNIST or np.array\n",
    "\n",
    "    Returns:\n",
    "        X_train: Array of shape (N, 28, 28), images from the train set\n",
    "        y_train: Array of shape (N), labels from the train set\n",
    "\n",
    "        X_test: Array of shape (N, 28, 28), images from the test set\n",
    "        y_test: Array of shape (N), labels from the test set\n",
    "    \"\"\"\n",
    "    # ========= YOUR CODE STARTS HERE ========= #\n",
    "    X_train, X_test, y_train, y_test = train_test_split(train_data.data, train_data.targets, train_size=0.20, test_size=0.05, stratify=train_data.targets)\n",
    "    # ========== YOUR CODE ENDS HERE ========== #\n",
    "    return X_train, X_test, y_train, y_test"
   ]
  },
  {
   "cell_type": "code",
   "execution_count": 24,
   "id": "4pT-osLT5qLo",
   "metadata": {
    "id": "4pT-osLT5qLo",
    "tags": []
   },
   "outputs": [],
   "source": [
    "X_train, X_test, y_train, y_test = split_dataset(train_data)"
   ]
  },
  {
   "cell_type": "code",
   "execution_count": 25,
   "id": "795c31dc-f064-4c8a-ac99-795a389d14ba",
   "metadata": {
    "tags": []
   },
   "outputs": [
    {
     "name": "stdout",
     "output_type": "stream",
     "text": [
      "Number of samples in train: 2417 \n",
      "Classes number in train: 1226, 1191 \n",
      "Number of samples in test: 605 \n",
      "Classes number in test: 307, 298\n"
     ]
    }
   ],
   "source": [
    "print(f\"Number of samples in train: {len(X_train)} \\n\\\n",
    "Classes number in train: {torch.sum(y_train == 1)}, {torch.sum(y_train == -1)} \\n\\\n",
    "Number of samples in test: {len(X_test)} \\n\\\n",
    "Classes number in test: {torch.sum(y_test == 1)}, {torch.sum(y_test == -1)}\")"
   ]
  },
  {
   "cell_type": "code",
   "execution_count": null,
   "id": "KV4wznVX5qLo",
   "metadata": {
    "colab": {
     "base_uri": "https://localhost:8080/"
    },
    "id": "KV4wznVX5qLo",
    "outputId": "2ec93ca1-af38-414f-fc25-349053e2c1b0"
   },
   "outputs": [
    {
     "name": "stdout",
     "output_type": "stream",
     "text": [
      "Number of samples in train: 2032 \n",
      "Classes number in train: 1078, 954 \n",
      "Number of samples in test: 508 \n",
      "Classes number in test: 270, 238\n"
     ]
    }
   ],
   "source": [
    "print(f\"Number of samples in train: {len(X_train)} \\n\\\n",
    "Classes number in train: {torch.sum(y_train == 1)}, {torch.sum(y_train == -1)} \\n\\\n",
    "Number of samples in test: {len(X_test)} \\n\\\n",
    "Classes number in test: {torch.sum(y_test == 1)}, {torch.sum(y_test == -1)}\")"
   ]
  },
  {
   "cell_type": "markdown",
   "id": "swE73GJ76GxU",
   "metadata": {
    "id": "swE73GJ76GxU"
   },
   "source": [
    "### 2.4 Visualize samples for the train set"
   ]
  },
  {
   "cell_type": "code",
   "execution_count": 26,
   "id": "4fbde345-f57b-47ca-b04c-4fc1fd1f32c8",
   "metadata": {
    "tags": []
   },
   "outputs": [
    {
     "data": {
      "image/png": "[encoded data removed]",
      "text/plain": [
       "<Figure size 1500x500 with 10 Axes>"
      ]
     },
     "metadata": {},
     "output_type": "display_data"
    }
   ],
   "source": [
    "fig = plt.figure(figsize=(15, 5))\n",
    "for idx in np.arange(10):\n",
    "    ax = fig.add_subplot(2, 5, idx+1, xticks=[], yticks=[])\n",
    "    ax.imshow(np.squeeze(X_train[idx].numpy()), cmap='gray')\n",
    "    ax.set_title(str(y_train[idx].item()))"
   ]
  },
  {
   "cell_type": "markdown",
   "id": "X2el3UpD6cYO",
   "metadata": {
    "id": "X2el3UpD6cYO"
   },
   "source": [
    "### 2.5 Preprocess the samples and initialize $\\mathbf{w}$ **(0.4 pts)**"
   ]
  },
  {
   "cell_type": "markdown",
   "id": "8531c05a-28a8-4309-98d2-b278e43be21f",
   "metadata": {
    "id": "8531c05a-28a8-4309-98d2-b278e43be21f"
   },
   "source": [
    "The original algorithm starts from zero parameter vector, but actually we can use just randomly initialized vector; it will make it faster to converge\n",
    "\n",
    "**Instructions**: Complete the missing lines of code and calculate the performance on test set"
   ]
  },
  {
   "cell_type": "code",
   "execution_count": 27,
   "id": "2a71993e-91fe-45af-bb58-040bbfd0cc40",
   "metadata": {
    "id": "2a71993e-91fe-45af-bb58-040bbfd0cc40",
    "tags": []
   },
   "outputs": [],
   "source": [
    "def prep_data(X_train):\n",
    "    \"\"\"\n",
    "    Flatten, normalize and extra column for bias\n",
    "    Args:\n",
    "        X_train: np.array of shape (N, 28, 28)\n",
    "\n",
    "    Returns:\n",
    "        X: preprocessed data\n",
    "    \"\"\"\n",
    "    # ========= YOUR CODE STARTS HERE ========= #\n",
    "    N = len(X_train)\n",
    "    train_flattened = X_train.reshape(N, -1)\n",
    "    X = np.apply_along_axis(lambda x: x / 255, 1, train_flattened)\n",
    "    X = np.append(X, np.ones((X.shape[0], 1)), 1)\n",
    "    \n",
    "    # ========== YOUR CODE ENDS HERE ========== #\n",
    "    return X\n",
    "\n",
    "def initialize_weight_vector(size):\n",
    "    \"\"\"\n",
    "    Create random parameter vector\n",
    "    Args:\n",
    "        size: Number of elements\n",
    "\n",
    "    Returns:\n",
    "        W: np.array of shape (size)\n",
    "    \"\"\"\n",
    "    # ========= YOUR CODE STARTS HERE ========= #\n",
    "    return np.random.uniform(-1, 1, size)\n",
    "    # ========== YOUR CODE ENDS HERE ========== #\n",
    "\n",
    "def misclassified(X, y, W):\n",
    "    \"\"\"\n",
    "    Calculate indices of missclasified points\n",
    "    Args:\n",
    "        X: np.array, training images\n",
    "        y: np.array, training labels\n",
    "        w: np.array, parameter vector\n",
    "\n",
    "    Returns:\n",
    "        M: np.array of shape (m) - indices of missclasified points, where m is a number of missclasified points\n",
    "    \"\"\"\n",
    "    # ========= YOUR CODE STARTS HERE ========= #\n",
    "    w_dot_X = np.dot(X, W)\n",
    "    sign_w_dot_X = np.sign(w_dot_X)\n",
    "    misclassified_mask = y != sign_w_dot_X\n",
    "    misclass_indices = np.where(misclassified_mask)[0]\n",
    "    \n",
    "    return misclass_indices\n",
    "    # ========== YOUR CODE ENDS HERE ========== #\n",
    "\n",
    "\n",
    "X_train_flat_aug = prep_data(X_train)\n",
    "W = initialize_weight_vector(X_train_flat_aug.shape[1])"
   ]
  },
  {
   "cell_type": "markdown",
   "id": "4c942c8e-1a2b-47f0-af9a-8ac09905c8d4",
   "metadata": {
    "id": "4c942c8e-1a2b-47f0-af9a-8ac09905c8d4"
   },
   "source": [
    "### 2.6 Training loop **(0.5 pts)**\n",
    "Here you need to complete the training loop of the PLA algorithm. Observe that recalculation the misclassified set (Step 3 of the PLA algorithm) is the most costly (as we need to iterate through the whole train set). To speed up the algorithm convergence, we will do the following:\n",
    "-  determine the set $S$ of misclassified datapoints\n",
    "-  for every $\\mathbf{w}\\in S$ that is still misclassified, update the vector $\\mathbf{w}$\n",
    "-  only after that recalculate the set $S$"
   ]
  },
  {
   "cell_type": "code",
   "execution_count": 28,
   "id": "b3f7ae1e-5c35-4105-8503-5aee57ea80f8",
   "metadata": {
    "tags": []
   },
   "outputs": [],
   "source": [
    "def find_hyperplane(X, y, W):\n",
    "    \"\"\"\n",
    "    Determines the coordinates of weight vector that produces separating hyperplane.\n",
    "    Args:\n",
    "        X: np.array, images\n",
    "        y: np.array, labels\n",
    "        w: np.array, parameter vector\n",
    "    \n",
    "    Returns:\n",
    "        W: the final vector of weights for the separating hyperplane\n",
    "    \"\"\"\n",
    "    \n",
    "    for i in range(2000):\n",
    "        misclass = misclassified(X, y, W)\n",
    "        if len(misclass) == 0:\n",
    "            print(f\"Found hyperplane on step {i}!\")\n",
    "            break\n",
    "    # ========= YOUR CODE STARTS HERE ========= #    \n",
    "        else:\n",
    "            misclass_X = X[misclass]\n",
    "            misclass_y = y[misclass]\n",
    "            update = np.sum(misclass_X * misclass_y[:, np.newaxis], axis=0)\n",
    "            W = W + update   \n",
    "    return W\n",
    "    # ========== YOUR CODE ENDS HERE ========== #"
   ]
  },
  {
   "cell_type": "code",
   "execution_count": 29,
   "id": "922a733c-1518-4549-a3b5-3f1ef9f3a037",
   "metadata": {
    "tags": []
   },
   "outputs": [
    {
     "name": "stdout",
     "output_type": "stream",
     "text": [
      "Found hyperplane on step 451!\n"
     ]
    }
   ],
   "source": [
    "X_train_flat_aug = prep_data(X_train)\n",
    "W = initialize_weight_vector(X_train_flat_aug.shape[1])\n",
    "hyperplane = find_hyperplane(X_train_flat_aug, y_train.numpy(), W)"
   ]
  },
  {
   "cell_type": "markdown",
   "id": "151d7f57-bdec-4b35-9bca-22778c7778e9",
   "metadata": {
    "id": "151d7f57-bdec-4b35-9bca-22778c7778e9"
   },
   "source": [
    "### 2.7 Evaluate performance of the linear classifier on the test set **(0.3 pts)**\n",
    "\n",
    "Check your classifier on the test set. Think of possible metrics that characterize performance and comment on how good the classifier is"
   ]
  },
  {
   "cell_type": "markdown",
   "id": "69ec7f82-b4af-44db-977f-6f63e7235e18",
   "metadata": {},
   "source": [
    "---\n",
    "First and foremost, we'd like to count how many points are misclassified by our hyperplane (that is, what is the number of points that lie on incorrect side of the hyperplane after the algorithm terminates?). For this, we make use of `misclassified` function we defined above and simply calculate the length of an array it outputs, which will give us number of misclassified predictions from test subset."
   ]
  },
  {
   "cell_type": "code",
   "execution_count": 30,
   "id": "ea11a6c7-e4a3-439d-a836-19455f3d643a",
   "metadata": {
    "id": "ea11a6c7-e4a3-439d-a836-19455f3d643a",
    "tags": []
   },
   "outputs": [],
   "source": [
    "X_test_flat_aug = prep_data(X_test)\n",
    "W_test = initialize_weight_vector(X_test_flat_aug.shape[1])"
   ]
  },
  {
   "cell_type": "code",
   "execution_count": 31,
   "id": "c85c54c8-991a-4475-9e4c-0339a0585d19",
   "metadata": {
    "tags": []
   },
   "outputs": [
    {
     "name": "stdout",
     "output_type": "stream",
     "text": [
      "Found hyperplane on step 46!\n",
      "Number of points misclassified by hyperplane:  0\n"
     ]
    }
   ],
   "source": [
    "hyperplane = find_hyperplane(X_test_flat_aug, y_test.numpy(), W_test)\n",
    "misclassified_points = len(misclassified(X_test_flat_aug, y_test.numpy(), hyperplane))\n",
    "\n",
    "print(f\"Number of points misclassified by hyperplane: \", misclassified_points)"
   ]
  },
  {
   "cell_type": "markdown",
   "id": "0a0c8636-49a0-4b28-a71c-fcd12f383aa5",
   "metadata": {
    "tags": []
   },
   "source": [
    "We can see that it took 46 iterations (clearly, this number can vary) for our algorithm to correctly classify each of 605 points from the test subset. Taking into account that on each iteration it updated the weight vector, this is probably not the most efficient way to compute the hyperplane, but, on the other hand, it is a very accurate one because given that our data is linearly separable, our algorithm is guarateed to converge and output hyperplane that separates all points correctly."
   ]
  },
  {
   "cell_type": "code",
   "execution_count": 32,
   "id": "652a6ac6-9ee5-4a4e-a3bb-e26728da961d",
   "metadata": {
    "tags": []
   },
   "outputs": [],
   "source": [
    "from line_profiler import LineProfiler"
   ]
  },
  {
   "cell_type": "code",
   "execution_count": 33,
   "id": "e1e7bfed-6508-4fc1-925f-4443899051c6",
   "metadata": {
    "tags": []
   },
   "outputs": [
    {
     "name": "stdout",
     "output_type": "stream",
     "text": [
      "Found hyperplane on step 451!\n",
      "Timer unit: 1e-09 s\n",
      "\n",
      "Total time: 0.964072 s\n",
      "File: /var/folders/69/8qfcbcxx27q9fwxnzjfx79f00000gn/T/ipykernel_5060/1109735884.py\n",
      "Function: find_hyperplane at line 1\n",
      "\n",
      "Line #      Hits         Time  Per Hit   % Time  Line Contents\n",
      "==============================================================\n",
      "     1                                           def find_hyperplane(X, y, W):\n",
      "     2                                               \"\"\"\n",
      "     3                                               Determines the coordinates of weight vector that produces separating hyperplane.\n",
      "     4                                               Args:\n",
      "     5                                                   X: np.array, images\n",
      "     6                                                   y: np.array, labels\n",
      "     7                                                   w: np.array, parameter vector\n",
      "     8                                               \n",
      "     9                                               Returns:\n",
      "    10                                                   W: the final vector of weights for the separating hyperplane\n",
      "    11                                               \"\"\"\n",
      "    12                                               \n",
      "    13       452     248000.0    548.7      0.0      for i in range(2000):\n",
      "    14       452  743223000.0    2e+06     77.1          misclass = misclassified(X, y, W)\n",
      "    15       452     805000.0   1781.0      0.1          if len(misclass) == 0:\n",
      "    16         1     155000.0 155000.0      0.0              print(f\"Found hyperplane on step {i}!\")\n",
      "    17         1          0.0      0.0      0.0              break\n",
      "    18                                               # ========= YOUR CODE STARTS HERE ========= #    \n",
      "    19                                                   else:\n",
      "    20       451   73883000.0 163820.4      7.7              misclass_X = X[misclass]\n",
      "    21       451     767000.0   1700.7      0.1              misclass_y = y[misclass]\n",
      "    22       451  143252000.0 317631.9     14.9              update = np.sum(misclass_X * misclass_y[:, np.newaxis], axis=0)\n",
      "    23       451    1739000.0   3855.9      0.2              W = W + update   \n",
      "    24         1          0.0      0.0      0.0      return W\n",
      "    25                                               # ========== YOUR CODE ENDS HERE ========== #\n",
      "\n"
     ]
    }
   ],
   "source": [
    "lp = LineProfiler()\n",
    "lp_wrapper = lp(find_hyperplane)\n",
    "lp_wrapper(X_train_flat_aug, y_train.numpy(), W)\n",
    "lp.print_stats(details=True, )"
   ]
  },
  {
   "cell_type": "markdown",
   "id": "1d9ee8ed-edbe-4722-9ada-425d3b97d9ff",
   "metadata": {},
   "source": [
    "Using `line_profiler` module, we asses the speed of our algorithm. As it turns out, in our case the most costly operation that took up 77.1% of running time is `misclassified()` function call, whereas operations required for updating the weight vector took fairly less (22.9% in total). From this, we may conclude that our speeding-up approach of updating the vector only after all the misclassified points are determined indeed made this process faster. But this also leads to more often calls to `misclassified` function which in turn calculates dot products between **all** datapoints and the weight vector, and so is also quite costly."
   ]
  },
  {
   "cell_type": "markdown",
   "id": "xq-iaKD2jgYU",
   "metadata": {
    "id": "xq-iaKD2jgYU"
   },
   "source": [
    "## 3. Conclusions **(0.3 pts)**\n",
    "\n",
    "Summarize in a few sentences what you have learned and achieved by completing the tasks of this assignment\n",
    "\n",
    "---\n",
    "\n",
    "Upon the completion of this assignent, we learned in detail about Perceptron Learning Algorithm (PLA) by prooving that: \\\n",
    "    $\\hspace{5mm}$(1) it works by adjusting the angle between normal vector and misclassified point; \\\n",
    "    $\\hspace{5mm}$(2) as number of iterations $k$ grows, the angle between $\\mathbf{w}_k$ and $\\mathbf{w}^\\star$ decreases (that is, we get more and more accurate hyperplane) and \\\n",
    "    $\\hspace{5mm}$(3) that an upper bound of growth of the vector is at most $kR^2$ ensuring that the algorithm will converge in a finite number of steps. \n",
    "    \n",
    "After that, we successfully completed the implementation of PLA and tested it on real-world data. Namely, we developed an algorithm that pre-processes hand-written images data and makes it much more manageble. Then we wrote two functions: `initialize_weight_vector` and `misclassified` that are essentially a backbone of the algorithm. Finally, `find_hyperplane` was implemented and used to update our weight vector of the hyperplane. This last function is probably the most important one in terms of linkage with underlying theoretical concepts, as it makes use of nice properties of dot products and orthogonality which are indeed fundamental for linear classifier ML algorithms like PLA as they allow us to update our hyperplane in accordance with location of particular misclassified points relative to hyperplane. And this is what PLA is essentially about.\n",
    "\n",
    "---"
   ]
  }
 ],
 "metadata": {
  "colab": {
   "provenance": [],
   "toc_visible": true
  },
  "kernelspec": {
   "display_name": "Python 3 (ipykernel)",
   "language": "python",
   "name": "python3"
  },
  "language_info": {
   "codemirror_mode": {
    "name": "ipython",
    "version": 3
   },
   "file_extension": ".py",
   "mimetype": "text/x-python",
   "name": "python",
   "nbconvert_exporter": "python",
   "pygments_lexer": "ipython3",
   "version": "3.11.4"
  }
 },
 "nbformat": 4,
 "nbformat_minor": 5
}
