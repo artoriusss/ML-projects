{
 "cells": [
  {
   "cell_type": "markdown",
   "id": "EQznMLwjRzhi",
   "metadata": {
    "id": "EQznMLwjRzhi"
   },
   "source": [
    "# **Linear Algebra for Data Science**: HW3, task 5 (3 pts)\n",
    "# Iterative methods for eigenvalue calculations\n",
    "\n",
    "### <div align=\"right\"> &copy; Yurii Yeliseev & Rostyslav Hryniv, 2023 </div>\n",
    "\n",
    "## Completed by:   \n",
    "*   Artur Shevtsov\n",
    "*   Yurii Roziaiev\n",
    "\n",
    "The aim of this task is to implement two iterative methods for eigenvalue and eigenvector calculations, the Jacobi and QR ones.\n"
   ]
  },
  {
   "cell_type": "markdown",
   "id": "BPiRUcHnhqxX",
   "metadata": {
    "id": "BPiRUcHnhqxX"
   },
   "source": [
    "# 1. Jacobi method **(1 pt)**\n",
    "The Jacobi method is applicable to symmetric matrices $A$ and uses the ***Givens rotations*** (also called  ***Jacobi rotations*** in this context) that consecutively decrease the off-diagonal part $$\\mbox{off}(A):=\\sum_{i\\ne j} |a_{ij}|^2$$ and thus transform $A$ to \"nearly\" diagonal form. (See the corresponding task from the first homework for details on the Givens rotations.) If $$A_k = Q_kQ_{k-1}\\cdots Q_2Q_1 A Q_1^\\top Q_2^\\top \\cdots Q_{k-1}^\\top Q_k^\\top$$ is alsmost diagonal, then its diagonal entries are close to the eigenvalues of $A$, and the approximation to eigenvectors can be obtained from the Givens rotations."
   ]
  },
  {
   "cell_type": "markdown",
   "id": "D9XW-1Fp_jd0",
   "metadata": {
    "id": "D9XW-1Fp_jd0"
   },
   "source": [
    "## 1.1. Algorithm justification\n",
    "#### 1.1.1. Basic step\n",
    "Assume that $A$ is an $n\\times n$ symmetric matrix and that indices $p,q$ with $1\\le p < q \\le n$ are such that $a_{pq} \\ne 0$. The task is to find an angle $\\theta$ such that, with $c:=\\cos\\theta$ and $s:=\\sin\\theta$, the matrix\n",
    "$$\\begin{pmatrix} b_{pp} & b_{pq} \\\\ b_{qp} & b_{qq} \\end{pmatrix} = \\begin{pmatrix} c & -s \\\\ s & c \\end{pmatrix}\\begin{pmatrix} a_{pp} & a_{pq} \\\\ a_{qp} & a_{qq} \\end{pmatrix}\\begin{pmatrix}c & s \\\\ -s & c  \\end{pmatrix}$$ is diagonal.\n"
   ]
  },
  {
   "cell_type": "markdown",
   "id": "62gNxDp9_rj0",
   "metadata": {
    "id": "62gNxDp9_rj0"
   },
   "source": [
    "#### **Task 1.1.2**: Explain why $|b_{pp}|^2 + |b_{qq}|^2 > |a_{pp}|^2 + |a_{qq}|^2$\n",
    "\n",
    "____\n",
    "\n",
    "We can explain it using the fact that Givens rotation does not change the Frobenius norm:\n",
    "\n",
    "$$\\| A \\|_F^2 = \\| B \\|_F^2$$\n",
    "\n",
    "$$\\| A \\|_F^2 = |a_{pp}|^2 + |a_{pq}|^2 + |a_{qp}|^2 + |a_{qq}|^2$$\n",
    "\n",
    "$$\\| B \\|_F^2 = |b_{pp}|^2 + |b_{pq}|^2 + |b_{qp}|^2 + |b_{qq}|^2$$\n",
    "\n",
    "Matrix $A$ is symmetric, so $a_{pq} = a_{qp} \\implies \\| A \\|_F^2 = |a_{pp}|^2 + |a_{qq}|^2 + 2|a_{pq}|^2$.\n",
    "Matrix $B$ is diagonal, so $b_{pq} = b_{qp} = 0 \\implies \\| B \\|_F^2 = |b_{pp}|^2 + |b_{qq}|^2$.\n",
    "\n",
    "Since $a_{pq} \\neq 0 \\implies 2|a_{pq}|^2 > 0$, therefore we prove, that:\n",
    "\n",
    "$$|b_{pp}|^2 + |b_{qq}|^2 < |a_{pp}|^2 + |a_{qq}|^2$$\n",
    "\n",
    "---"
   ]
  },
  {
   "cell_type": "markdown",
   "id": "NePG_S2o_neA",
   "metadata": {
    "id": "NePG_S2o_neA"
   },
   "source": [
    "\n",
    "#### **Task 1.1.3**: Find the angle $\\theta$ so that the above matrix $B$ is diagonal\n",
    "---\n",
    "\n",
    "For B to be diagonal, off-diagonal elements should be zero: $b_{pq} = b_{qp} = 0$.\n",
    "If we multiply the matrices, we get the following expression for $b_{pq}:$\n",
    "\n",
    "$$ b_{pq} = s(ca_{pp} - sa_{pq}) + c(ca_{pq} - sa_{qq})= a_{pq}(c^2 - s^2) + sc(a_{pp} - a_{qq}) = 0$$\n",
    "\n",
    "Next, using trigonometric formulas for $\\sin\\theta\\cos\\theta = \\frac{1}{2}\\sin2\\theta$ and $\\cos^2\\theta - \\sin^2\\theta = \\cos2\\theta$:\n",
    "\n",
    "$$a_{pq}\\cos2\\theta + \\frac{1}{2}\\sin2\\theta(a_{pp} - a_{qq}) = 0$$\n",
    "\n",
    "Solving for $\\theta$ we get:\n",
    "\n",
    "$$\\tan2\\theta = \\frac{2a_{pq}}{a_{qq} - a_{pp}}$$\n",
    "\n",
    "$$\\theta = \\frac{1}{2}\\arctan\\frac{2a_{pq}}{a_{qq} - a_{pp}}$$\n",
    "\n",
    "If $a_{pp} = a_{qq} \\implies \\theta = \\frac{\\pi}{4}$\n",
    "If $a_{pq} = 0 \\implies \\theta = 0 \\implies$ matrix is diagonal\n",
    "\n",
    "---  \n"
   ]
  },
  {
   "cell_type": "markdown",
   "id": "i5oFcTJ6Cih4",
   "metadata": {
    "id": "i5oFcTJ6Cih4"
   },
   "source": [
    "### **Task 1.1.4**: write a function that for a given matrix $A$ and indices $p<q$ finds the angle $\\theta$ in the Jacobi rotation $J$  \n"
   ]
  },
  {
   "cell_type": "code",
   "execution_count": 55,
   "id": "KoSY8FMtC_95",
   "metadata": {
    "id": "KoSY8FMtC_95",
    "ExecuteTime": {
     "end_time": "2024-01-06T21:25:33.662752Z",
     "start_time": "2024-01-06T21:25:33.628933Z"
    }
   },
   "outputs": [],
   "source": [
    "import numpy as np\n",
    "def calc_rotation_angle(A, p, q):\n",
    "    return 0.5 * np.arctan2(2 * A[p, q], A[q, q] - A[p, p])"
   ]
  },
  {
   "cell_type": "markdown",
   "id": "CAtm4pmiAZbS",
   "metadata": {
    "id": "CAtm4pmiAZbS"
   },
   "source": [
    "## 1.2 The algorithm and its implementation\n",
    "Denote by $$J(p,q,\\theta): = \\begin{pmatrix}1 & \\dots & 0 & \\dots & 0 &  \\dots & 0 \\\\ \\vdots & \\ddots & \\vdots & & \\vdots & & \\vdots \\\\ 0 & \\dots & c & \\dots & s & \\dots & 0 \\\\ \\vdots & \\ddots & \\vdots & & \\vdots & & \\vdots \\\\ 0 & \\dots & -s & \\dots & c & \\dots & 0 \\\\ \\vdots & \\ddots & \\vdots & & \\vdots & & \\vdots \\\\ 0 & \\dots & 0 & \\dots & 0 &  \\dots & 1 \\end{pmatrix}$$ the Jacobi (Givens) rotation in entries $p<q$.\n",
    "\n",
    "Given a symmetric $n\\times n$ matrix $A$ and a positive\n",
    "tolerance $\\mbox{tol}$, we find an orthogonal $V = J_1 J_2\\cdots J_k$ such that $B:= V^\\top A V$ has small off-diagonal part, namely $\\mbox{off}(B) \\le \\delta:= \\mbox{tol}\\cdot \\|A\\|_F$.\n",
    "\n",
    "#### **Initialize:** $V = I_n$, $B=A$\n",
    "#### **while** $\\mbox{off}(B) > \\delta$:  \n",
    "- find $p<q$ s.t. $|b_{pq}| = \\max_{i\\ne j}|b_{ij}|$\n",
    "- set $\\theta = \\texttt{rot_angle}(B, p, q)$\n",
    "- update $B = J(p,q,\\theta)^\\top B J(p,q,\\theta)$\n",
    "- update $V = V J(p,q,\\theta)$\n",
    "\n",
    "#### **end**\n",
    "\n",
    "\n"
   ]
  },
  {
   "cell_type": "markdown",
   "id": "-aFBsQ04H5VO",
   "metadata": {
    "id": "-aFBsQ04H5VO"
   },
   "source": [
    "---\n",
    "### **Task 1.2.1**: Implement the above algorithm"
   ]
  },
  {
   "cell_type": "code",
   "execution_count": 56,
   "id": "qGsNY60yH7Vo",
   "metadata": {
    "id": "qGsNY60yH7Vo",
    "ExecuteTime": {
     "end_time": "2024-01-06T21:25:33.664244Z",
     "start_time": "2024-01-06T21:25:33.634189Z"
    }
   },
   "outputs": [],
   "source": [
    "def jacobi_method(A, tol=1e-8, max_iter=1000):\n",
    "    \"\"\"\n",
    "    The jacobi_method function is used to calculate the eigenvalues and eigenvectors of a square matrix using the Jacobi method.\n",
    "\n",
    "    Inputs:\n",
    "\n",
    "    A (numpy.ndarray): The square matrix for which the eigenvalues and eigenvectors are to be calculated.\n",
    "    tol (float): The tolerance level. The default value is 1e-8.\n",
    "    max_iter (int): The maximum number of iterations to perform. The default value is 1000.\n",
    "    Outputs:\n",
    "\n",
    "    numpy.ndarray: The eigenvalues of the input matrix.\n",
    "    numpy.ndarray: The eigenvectors of the input matrix.\n",
    "    \"\"\"\n",
    "    n = A.shape[0]\n",
    "    V = np.identity(n)\n",
    "    B = A.copy()\n",
    "\n",
    "    off_B = np.linalg.norm(np.triu(B, k=1), 'fro')  \n",
    "    delta = tol * off_B\n",
    "    \n",
    "    i = 0\n",
    "    while off_B > delta and i < max_iter:\n",
    "        # Find index of pivot element b_pq and angle theta\n",
    "        p, q = np.unravel_index(np.argmax(np.abs(np.triu(B, k=1))), B.shape) \n",
    "        theta = calc_rotation_angle(B, p, q)\n",
    "        \n",
    "        # Construct rotation matrix\n",
    "        c, s = np.cos(theta), np.sin(theta)\n",
    "        J = np.identity(n)\n",
    "        J[p, p], J[p, q] =  c, s\n",
    "        J[q, p], J[q, q] = -s, c\n",
    "        \n",
    "        # Rotate B and update total rotation matrix V\n",
    "        B = J.T @ B @ J\n",
    "        V = V @ J\n",
    "        \n",
    "        # Update off-diagonal Frobenius norm\n",
    "        off_B = np.linalg.norm(np.triu(B, k=1), 'fro') \n",
    "        i += 1\n",
    "    \n",
    "    eigenvalues, eigenvectors = np.diag(B), V\n",
    "    return eigenvalues, eigenvectors"
   ]
  },
  {
   "cell_type": "markdown",
   "id": "XQHmEIQIIE3M",
   "metadata": {
    "id": "XQHmEIQIIE3M"
   },
   "source": [
    "Observe that on each step the norm of the off-diagonal part of $B$ decreases at least by the factor $(N-1)/N$, where $N:=n(n-1)$. Therefore, the algorithm converges in a finite number of steps\n",
    "\n",
    "---\n",
    "### **Task 1.2.2**: Eigenvalues and eigenvectors by Jacobi method\n",
    "\n",
    "##### Given that $B = V^\\top AV$ is almost diagonal, identify the approximate eigenvalues and eigenvectors of $A$\n",
    "---\n",
    "\n",
    "This identification comes from the fact that the transformation $B = V^\\top AV$ diagonalizes $A$, and the eigenvectors are obtained as columns of $V$ while the eigenvalues appear on the diagonal of $B$. This is a fundamental property of diagonalization, and it allows us to express $A$ in terms of its eigenvalues and eigenvectors.\n",
    "\n",
    "---"
   ]
  },
  {
   "cell_type": "markdown",
   "id": "2w48gY9dKg00",
   "metadata": {
    "id": "2w48gY9dKg00"
   },
   "source": [
    "# 2. QR-method **(1 pt)**\n",
    "\n",
    "The $QR$ eigenvalue method is based on the observation that, under mild assumptions on an $n\\times n$ matrix $A$, the sequence constructed starting with $A_1 = A$ and the update step $$A_k = Q_kR_k \\quad \\mapsto \\quad A_{k+1}:=R_kQ_k$$\n",
    "coverges to an upper-triangular $A_*$ holding the eigenvalues of the initial matrix $A$\n"
   ]
  },
  {
   "cell_type": "markdown",
   "id": "Jg5ME8evL_wj",
   "metadata": {
    "id": "Jg5ME8evL_wj"
   },
   "source": [
    "## 2.1 Justification of the method\n",
    "\n",
    "The fact that the sequence $A_k$ converges to an upper-triangular limit is rather difficult to prove and is skipped here. We will justify that the method gives the eigenvalues of $A$ and, in symmetric case, also the corresponding eigenvectors"
   ]
  },
  {
   "cell_type": "markdown",
   "source": [],
   "metadata": {
    "collapsed": false
   },
   "id": "947c0eb252967b1b"
  },
  {
   "cell_type": "markdown",
   "id": "z0Y1aQjiMjHY",
   "metadata": {
    "id": "z0Y1aQjiMjHY"
   },
   "source": [
    "### 2.1.1. Eigenvalues\n",
    "Explain why the diagonal entries of the upper-triangular limiting matrix $A_* = \\lim_{k\\to\\infty} A_k$ are eigenvalues of $A$ *(Hint: show that all matrices $A_k$ are similar to $A$)*\n",
    "\n",
    "---\n",
    "Two n-by-n matrices A and B are called similar if there exists an invertible n-by-n matrix P such that $ B=P^{-1}AP $. \n",
    "Hence, we can transform our sequence as follows:\n",
    "\n",
    "$$ A_{k+1} = R_{k}Q_{k} = Q_{k}^{-1}Q_{k}R_{k}Q_{k} = Q_{k}^{-1}A_{k}Q_{k} = Q_{k}^\\top A_{k}Q_{k}, $$\n",
    "\n",
    "where $Q$ is orthogonal and we can clearly see that $A_k$ and $A_{k+1}$ are similar, therefore they have the same eigenvalues. \n",
    "\n",
    "---"
   ]
  },
  {
   "cell_type": "markdown",
   "id": "kEUqHgYfNL5G",
   "metadata": {
    "id": "kEUqHgYfNL5G"
   },
   "source": [
    "### 2.1.2. Eigenvectors\n",
    "Assume now that the initial matrix $A$ is symmetric. Explain why all matrices $A_k$ are also symmetric. Conclude that the limiting matrix $A_*$ is diagonal. Then identify an orthogonal matrix $V$ such that $A_* = V^\\top AV$ and thus find the corresponding eigenvectors of $A$\n",
    "\n",
    "---\n",
    "\n",
    "You're correct, and I appreciate your attention to detail. Let's provide a more explicit proof for the symmetry of \\(A_k\\) in the case where the initial matrix \\(A\\) is symmetric.\n",
    "\n",
    "Given that $A$ is symmetric, i.e., $A^\\top = A$, let's show that $A_k$ is symmetric:\n",
    "\n",
    "$$ A_{k+1} = Q_k^\\top A_k Q_k $$\n",
    "\n",
    "Now, taking the transpose of both sides:\n",
    "\n",
    "$$ A_{k+1}^\\top = (Q_k^\\top A_k Q_k)^\\top $$\n",
    "\n",
    "Using the property $(AB)^\\top = B^\\top A^\\top$:\n",
    "\n",
    "$$ A_{k+1}^\\top = Q_k^\\top A_k^\\top (Q_k^\\top)^\\top $$\n",
    "\n",
    "Since $A_k$ is symmetric $A_k^\\top = A_k$:\n",
    "\n",
    "$$ A_{k+1}^\\top = Q_k^\\top A_k Q_k \\implies A_{k+1} \\text{ is also symmetric}$$\n",
    "\n",
    "Matrix $Q$ is orthogonal, so the transformation above diagonalizes $A_k$, so that the limiting matrix $A_*$ is diagonal and is made of eigenvalues.\n",
    "After going through all required $k$ iterations, the expression for $A_*$ looks like the following:\n",
    "\n",
    "$$ A_* = (Q^\\top_kQ^\\top_{k-1} \\cdots Q^\\top_2 Q^\\top_1)A(Q_1 Q_2 \\cdots Q_{k-1}Q_k) = V^\\top AV,$$\n",
    "\n",
    "where $V$ is the product of $k$ orthogonal matrices $Q_i$: $V = Q_1 Q_2 \\cdots Q_k$\n",
    "\n",
    "---"
   ]
  },
  {
   "cell_type": "markdown",
   "id": "QHNdTq3iOKIx",
   "metadata": {
    "id": "QHNdTq3iOKIx"
   },
   "source": [
    "## 2.2. Implementation of the method\n",
    "No need to implement the QR factorization from the scratch (although you may use your solutions of the HW1 based on the Givens rotations and/or Householder reflections)"
   ]
  },
  {
   "cell_type": "code",
   "execution_count": 57,
   "id": "SNt5DRWsOlSR",
   "metadata": {
    "id": "SNt5DRWsOlSR",
    "ExecuteTime": {
     "end_time": "2024-01-06T21:25:33.674842Z",
     "start_time": "2024-01-06T21:25:33.643139Z"
    }
   },
   "outputs": [],
   "source": [
    "def QR_method(A, tol=1e-10, max_iter=1000):\n",
    "    \"\"\"The QR_method function is used to calculate the eigenvalues of a square matrix using the QR method.\n",
    "\n",
    "    Inputs:\n",
    "\n",
    "    A (numpy.ndarray): The square matrix for which the eigenvalues are to be calculated.\n",
    "    tol (float): The tolerance level. The default value is 1e-10.\n",
    "    max_iter (int): The maximum number of iterations to perform. The default value is 1000.\n",
    "    Outputs:\n",
    "\n",
    "    numpy.ndarray: The diagonal of the final transformed matrix A, which represents the eigenvalues of the input matrix\"\"\"\n",
    "    V = np.identity(A.shape[0])\n",
    "   \n",
    "    off_A = np.linalg.norm(np.triu(A, k=1), 'fro')  \n",
    "    delta = tol * off_A\n",
    "    \n",
    "    i = 0\n",
    "    while off_A > delta and i < max_iter:\n",
    "        Q, R = np.linalg.qr(A)\n",
    "        A = R @ Q\n",
    "        V = V @ Q\n",
    "        \n",
    "        off_A = np.linalg.norm(np.triu(A, k=1), 'fro')\n",
    "        i += 1\n",
    "\n",
    "    eigenvalues, eigenvectors = np.diag(A), V\n",
    "    return eigenvalues, eigenvectors, A"
   ]
  },
  {
   "cell_type": "markdown",
   "id": "eGcX5xjQO0vm",
   "metadata": {
    "id": "eGcX5xjQO0vm"
   },
   "source": [
    "# 3. Testing **(0.5 pts)**"
   ]
  },
  {
   "cell_type": "markdown",
   "id": "fl25X-7MPZy5",
   "metadata": {
    "id": "fl25X-7MPZy5"
   },
   "source": [
    "## 3.1 Initializing $A$\n",
    "Generate a $10\\times 10$ matrix $A = QDQ^{\\top}$, where $Q$ is a (randomly generated) orthogonal matrix  and $D=\\mbox{diag}\\{1,2,\\dots,10\\}$ is a diagonal matrix. To generate $Q$, start with a $10\\times 10$ matrix $B$ with random entries in $(0,1)$ and apply the $QR$-factorisation of $B$, $B=QR$, to determine $Q$. Alternatively, apply Gram-Schmidt to find an orthonormal basis of $\\mathbb{R}^{10}$"
   ]
  },
  {
   "cell_type": "code",
   "execution_count": 58,
   "id": "OYBxtP17QFsr",
   "metadata": {
    "id": "OYBxtP17QFsr",
    "ExecuteTime": {
     "end_time": "2024-01-06T21:25:33.694260Z",
     "start_time": "2024-01-06T21:25:33.647911Z"
    }
   },
   "outputs": [],
   "source": [
    "np.random.seed(42)\n",
    "B = np.random.rand(10, 10)\n",
    "Q, _ = np.linalg.qr(B)\n",
    "D = np.diag(np.arange(1, 11))\n",
    "A = Q @ D @ Q.T"
   ]
  },
  {
   "cell_type": "markdown",
   "id": "piIT3g6DQIyI",
   "metadata": {
    "id": "piIT3g6DQIyI"
   },
   "source": [
    "## 3.2 Eigenvalue and eigenvector calculations\n",
    "\n",
    "### 3.2.1. Jacobi method\n",
    "Apply Jacobi method to determine the eigenvalues and eigenvectors"
   ]
  },
  {
   "cell_type": "code",
   "execution_count": 59,
   "id": "CeLaNP1aQTfP",
   "metadata": {
    "id": "CeLaNP1aQTfP",
    "ExecuteTime": {
     "end_time": "2024-01-06T21:25:33.695566Z",
     "start_time": "2024-01-06T21:25:33.650625Z"
    }
   },
   "outputs": [],
   "source": [
    "eigenvalues_jac, eigenvectors_jac = jacobi_method(A)"
   ]
  },
  {
   "cell_type": "markdown",
   "id": "_avElGrLQZ-L",
   "metadata": {
    "id": "_avElGrLQZ-L"
   },
   "source": [
    "### 3.2.2 QR method\n",
    "Apply the QR method to determine the eigenvalues and eigenvectors"
   ]
  },
  {
   "cell_type": "code",
   "execution_count": 60,
   "id": "4424f9fd",
   "metadata": {
    "id": "4424f9fd",
    "ExecuteTime": {
     "end_time": "2024-01-06T21:25:33.697785Z",
     "start_time": "2024-01-06T21:25:33.657765Z"
    }
   },
   "outputs": [],
   "source": [
    "eigenvalues_qr, eigenvectors_qr, arr = QR_method(A)"
   ]
  },
  {
   "cell_type": "markdown",
   "id": "ny2m2x3TRDbS",
   "metadata": {
    "id": "ny2m2x3TRDbS"
   },
   "source": [
    "## 3.3 Evaluating the results\n",
    "\n",
    "Compare the results with the built-in function and comment on the outcomes"
   ]
  },
  {
   "cell_type": "code",
   "execution_count": 61,
   "outputs": [
    {
     "name": "stdout",
     "output_type": "stream",
     "text": [
      "\n",
      "Eigenvalues (Jacobi):\n",
      "[ 1.  2.  3.  4.  5.  6.  7.  8.  9. 10.]\n",
      "\n",
      "Eigenvectors (Jacobi):\n",
      "[[ 0.01672616 -0.08449834 -0.09898519 -0.09898765  0.20476003 -0.31899286\n",
      "  -0.35938116 -0.45810392  0.46791825  0.52090212]\n",
      " [-0.01034554  0.01125349  0.03456666 -0.11105043  0.15380457  0.1596036\n",
      "   0.22421966 -0.2361641   0.64104822  0.64816616]\n",
      " [ 0.02335539 -0.0514379   0.07255162  0.15405075 -0.18348828 -0.283905\n",
      "  -0.32697968  0.33449827 -0.55105251 -0.57539519]\n",
      " [-0.14671391 -0.16073056  0.23265842 -0.25077656  0.31036189  0.33214307\n",
      "  -0.37393719  0.38489824  0.39423473 -0.43079191]\n",
      " [ 0.06671796 -0.08403261  0.13726203 -0.15486168  0.26121054  0.27678381\n",
      "  -0.33520468 -0.45811054 -0.48787294 -0.49048604]\n",
      " [-0.0518838   0.05412371  0.08076804  0.13098211 -0.18208943  0.26614203\n",
      "  -0.31095076 -0.37658907  0.5300692   0.5892603 ]\n",
      " [ 0.0059725  -0.06644272 -0.13068058  0.173022   -0.18400638  0.21248879\n",
      "   0.29050153 -0.31741494  0.4650144   0.68421053]\n",
      " [ 0.07176493  0.15008553  0.172725   -0.19678244 -0.21639711 -0.26066626\n",
      "   0.29082593 -0.41638301  0.42218405  0.59396833]\n",
      " [ 0.02716694 -0.09602649 -0.12348467  0.14938157  0.15257045 -0.17062905\n",
      "  -0.29961851  0.3760358   0.47185622  0.66802925]\n",
      " [ 0.02650204  0.03641885 -0.03703863  0.06538184  0.12918452  0.19285076\n",
      "  -0.21716697  0.42411467 -0.54506762  0.64367006]]\n",
      "\n",
      "Eigenvalues (QR):\n",
      "[ 1.  2.  3.  4.  5.  6.  7.  8.  9. 10.]\n",
      "\n",
      "Eigenvectors (QR):\n",
      "[[-0.01672616  0.08449834  0.09898519 -0.09898764  0.20476003 -0.31899286\n",
      "  -0.35938116  0.45810392  0.46791825  0.52090212]\n",
      " [-0.01034554  0.01125349 -0.03456666 -0.11105043 -0.15380457  0.1596036\n",
      "  -0.22421966 -0.2361641   0.64104822 -0.64816616]\n",
      " [-0.02335539  0.0514379   0.07255162 -0.15405076 -0.18348828 -0.283905\n",
      "   0.32697969  0.33449826 -0.55105251 -0.57539519]\n",
      " [ 0.1467139  -0.16073056  0.23265843  0.25077655  0.3103619   0.33214307\n",
      "  -0.37393719 -0.38489824  0.39423473  0.43079191]\n",
      " [ 0.06671796  0.08403261  0.13726202  0.15486168  0.26121054  0.27678381\n",
      "  -0.33520468  0.45811054  0.48787294 -0.49048604]\n",
      " [ 0.0518838   0.05412372  0.08076804  0.13098211  0.18208943 -0.26614204\n",
      "  -0.31095076 -0.37658907  0.5300692  -0.5892603 ]\n",
      " [ 0.0059725  -0.06644272  0.13068058 -0.173022   -0.18400638  0.21248879\n",
      "   0.29050153  0.31741494  0.4650144  -0.68421054]\n",
      " [ 0.07176493 -0.15008553  0.17272499  0.19678244 -0.21639711  0.26066625\n",
      "  -0.29082593 -0.416383    0.42218405  0.59396833]\n",
      " [ 0.02716694 -0.09602649  0.12348467  0.14938157  0.15257045  0.17062905\n",
      "   0.2996185   0.3760358   0.47185622 -0.66802925]\n",
      " [ 0.02650204 -0.03641885 -0.03703863  0.06538184  0.12918452 -0.19285076\n",
      "   0.21716697  0.42411467  0.54506762  0.64367006]]\n",
      "\n",
      "Eigenvalues (np.linalg.eig):\n",
      "[ 1.  2.  3.  4.  5.  6.  7.  8.  9. 10.]\n",
      "\n",
      "Eigenvectors (np.linalg.eig):\n",
      "[[-0.01672616 -0.08449834  0.09898519 -0.09898764 -0.20476003  0.31899286\n",
      "  -0.35938116  0.45810392 -0.46791825  0.52090212]\n",
      " [-0.01034554 -0.01125349 -0.03456666  0.11105043 -0.15380457  0.1596036\n",
      "  -0.22421966 -0.2361641  -0.64104822  0.64816616]\n",
      " [-0.02335539 -0.0514379   0.07255162 -0.15405076  0.18348828 -0.283905\n",
      "   0.32697969 -0.33449826  0.55105251 -0.57539519]\n",
      " [ 0.1467139   0.16073056  0.23265843  0.25077655 -0.3103619  -0.33214307\n",
      "  -0.37393719  0.38489824  0.39423473  0.43079191]\n",
      " [-0.06671796  0.08403261  0.13726202 -0.15486168 -0.26121054 -0.27678381\n",
      "  -0.33520468  0.45811054  0.48787294 -0.49048604]\n",
      " [ 0.0518838   0.05412372 -0.08076804 -0.13098211 -0.18208943 -0.26614204\n",
      "  -0.31095076 -0.37658907 -0.5300692  -0.5892603 ]\n",
      " [-0.0059725  -0.06644272  0.13068058  0.173022   -0.18400638 -0.21248879\n",
      "  -0.29050153  0.31741494  0.4650144  -0.68421054]\n",
      " [ 0.07176493  0.15008553  0.17272499  0.19678244  0.21639711  0.26066625\n",
      "  -0.29082593  0.416383   -0.42218405  0.59396833]\n",
      " [-0.02716694 -0.09602649 -0.12348467  0.14938157  0.15257045  0.17062905\n",
      "   0.2996185  -0.3760358  -0.47185622 -0.66802925]\n",
      " [ 0.02650204 -0.03641885  0.03703863 -0.06538184  0.12918452 -0.19285076\n",
      "   0.21716697 -0.42411467 -0.54506762  0.64367006]]\n"
     ]
    }
   ],
   "source": [
    "eigenvalues_eig, eigenvectors_eig = np.linalg.eig(A)\n",
    "print(f\"\\nEigenvalues (Jacobi):\\n{np.sort(eigenvalues_jac, axis=0)}\")\n",
    "print(f\"\\nEigenvectors (Jacobi):\\n{np.take_along_axis(eigenvectors_jac, np.argsort(np.abs(eigenvectors_jac), axis=1), axis=1)}\")\n",
    "print(f\"\\nEigenvalues (QR):\\n{np.sort(eigenvalues_qr, axis=0)}\")\n",
    "print(f\"\\nEigenvectors (QR):\\n{np.take_along_axis(eigenvectors_qr, np.argsort(np.abs(eigenvectors_qr), axis=1), axis=1)}\")\n",
    "print(f\"\\nEigenvalues (np.linalg.eig):\\n{np.sort(eigenvalues_eig, axis=0)}\")\n",
    "print(f\"\\nEigenvectors (np.linalg.eig):\\n{np.take_along_axis(eigenvectors_eig, np.argsort(np.abs(eigenvectors_eig), axis=1), axis=1)}\")\n"
   ],
   "metadata": {
    "collapsed": false,
    "ExecuteTime": {
     "end_time": "2024-01-06T21:25:33.705386Z",
     "start_time": "2024-01-06T21:25:33.666908Z"
    }
   },
   "id": "abc71a277e297872"
  },
  {
   "cell_type": "markdown",
   "id": "yC6idKQtRUkT",
   "metadata": {
    "id": "yC6idKQtRUkT"
   },
   "source": [
    "---\n",
    "\n",
    "As we can see, both methods correctly computed the eigenvalues and eigenvectors when comparing to the built-in NumPy function. \n",
    "\n",
    "---\n"
   ]
  },
  {
   "cell_type": "markdown",
   "id": "N0TqUlcDRcT3",
   "metadata": {
    "id": "N0TqUlcDRcT3"
   },
   "source": [
    "# 4. Conclusions **(0.5 pts)**\n",
    "Summarize in several sentences what you achieved in this task, what were the main obstacles and how you overcome them. You can also add some suggestions how this task can be improved in the future"
   ]
  },
  {
   "cell_type": "markdown",
   "id": "-Gy_I3DTRsnu",
   "metadata": {
    "id": "-Gy_I3DTRsnu"
   },
   "source": [
    "---\n",
    "\n",
    "In this task we implemented two iterative methods for eigenvalue and eigenvector calculations, the Jacobi and QR ones. In general, both methods orthogonally diagonalize the initial symmetric matrix $A$, but use different orthogonal matrices for it. One of the main obstacles of this task was the algorithm justification part, but after reading some additional literature, we were able to overcome it. \n",
    "\n",
    "---"
   ]
  },
  {
   "cell_type": "code",
   "execution_count": 61,
   "outputs": [],
   "source": [],
   "metadata": {
    "collapsed": false,
    "ExecuteTime": {
     "end_time": "2024-01-06T21:25:33.705769Z",
     "start_time": "2024-01-06T21:25:33.671272Z"
    }
   },
   "id": "3b3159e6e60d0813"
  }
 ],
 "metadata": {
  "colab": {
   "provenance": [
    {
     "file_id": "1on2y_pMuCzdd2cfdaJ_KdPGqVCjNd-Mh",
     "timestamp": 1675462514046
    }
   ]
  },
  "kernelspec": {
   "display_name": "Python 3 (ipykernel)",
   "language": "python",
   "name": "python3"
  },
  "language_info": {
   "codemirror_mode": {
    "name": "ipython",
    "version": 3
   },
   "file_extension": ".py",
   "mimetype": "text/x-python",
   "name": "python",
   "nbconvert_exporter": "python",
   "pygments_lexer": "ipython3",
   "version": "3.9.15"
  }
 },
 "nbformat": 4,
 "nbformat_minor": 5
}
